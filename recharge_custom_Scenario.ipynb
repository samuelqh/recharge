{
 "cells": [
  {
   "cell_type": "markdown",
   "id": "ecc8a830-ac86-48ea-a932-f5221c61fdf9",
   "metadata": {},
   "source": [
    "## Custom scenarios using `premise`\n",
    "\n",
    "#### Github repository: [https://github.com/premise-community-scenarios](https://github.com/premise-community-scenarios)\n",
    "#### Documentation: [https://premise.readthedocs.io/en/latest/user_scenarios.html](https://premise.readthedocs.io/en/latest/user_scenarios.html)\n",
    "#### Tutorial author: Romain Sacchi\n",
    "#### Duration: 2 hours"
   ]
  },
  {
   "cell_type": "markdown",
   "id": "610f0047-e5b8-4a39-975e-d4388532354b",
   "metadata": {},
   "source": [
    "`premise` accepts [`datapackages`](https://specs.frictionlessdata.io/data-package/) which contain enough information to build and implement a scenario.\n",
    "\n",
    "Datapackages for `premise` essentially contain:\n",
    "1. a datapackage.json file, describing the resources contained by the datapackage\n",
    "2. an inventory file (optional), if `premise` needs to import some inventories not present in ecoinvent\n",
    "3. a scenario data table, contianing variables and their values for each time step\n",
    "4. a config-yaml file, telling `premise` how to interpret the variables contained in the scenario data table."
   ]
  },
  {
   "cell_type": "markdown",
   "id": "06e4a357-f23f-42c8-83ab-9d8f8a3b9b3c",
   "metadata": {},
   "source": [
    "In this exercise, we will want to model a market for bread which will present varying shares for three bread recipes:\n",
    "\n",
    "* Activated Dough Development\n",
    "* Straight Dough Method\n",
    "* Delayed Salt Method\n",
    "\n",
    "The resulting datapackage [already exists](https://github.com/premise-community-scenarios/scenario-example-bread), let's have a look at it."
   ]
  },
  {
   "cell_type": "markdown",
   "id": "b1b50547-38f5-4f39-8ca7-3de369f62d8b",
   "metadata": {},
   "source": [
    "## datapackage.json"
   ]
  },
  {
   "cell_type": "markdown",
   "id": "bbfdfbe1-00c4-4660-874c-464cd6760bf1",
   "metadata": {},
   "source": [
    "- It defines the datapackage\n",
    "- Allows you to fill in metadata (author of the scenario, license, etc.)\n",
    "- Defines resources (files) and where to find the,"
   ]
  },
  {
   "cell_type": "markdown",
   "id": "463879a4-a810-4216-b85b-00d89edcbf49",
   "metadata": {},
   "source": [
    "## Scenario data"
   ]
  },
  {
   "cell_type": "markdown",
   "id": "68f8cf40-e66f-4d58-be8f-e3b8e2afdd0e",
   "metadata": {},
   "source": [
    "- Tabular data\n",
    "- CSV format\n",
    "- Variables: production volumes, efficiencies, etc.\n",
    "- Timeseries"
   ]
  },
  {
   "cell_type": "markdown",
   "id": "9cf4c53e-090a-49de-acf6-eb2807db5ae8",
   "metadata": {},
   "source": [
    "## config.yaml"
   ]
  },
  {
   "cell_type": "markdown",
   "id": "69810df8-1ee2-4caa-b74c-0291f9809a9b",
   "metadata": {},
   "source": [
    "- YAML file\n",
    "- Gives instructions to premise on what to do.\n",
    "- One can declare technologies/suppliers, modify their efficiency over time, create markets and substitute suppliers with new ones."
   ]
  },
  {
   "cell_type": "markdown",
   "id": "0b3c6225-14ce-496f-a727-743ceadc42a6",
   "metadata": {},
   "source": [
    "## Additional inventories"
   ]
  },
  {
   "cell_type": "markdown",
   "id": "c7e9e3a3-a301-4a28-a4f6-5c434408099b",
   "metadata": {},
   "source": [
    "- Optional. If your cscenario reuires inventories not prensent in the premise database."
   ]
  },
  {
   "cell_type": "markdown",
   "id": "6d898c41-ab81-490c-b8b2-04430ed3c55c",
   "metadata": {},
   "source": [
    "## Running custom scenario in `premise`"
   ]
  },
  {
   "cell_type": "markdown",
   "id": "f13dbda8-fb85-4a34-8d30-537224867310",
   "metadata": {},
   "source": [
    "In theory, your datapackage is now defined, the necessary metadata is filled and the resources declared, and all the components are present for `premise` to interpret it."
   ]
  },
  {
   "cell_type": "markdown",
   "id": "4b82cab5-d391-40f1-bdc4-6984d651be21",
   "metadata": {},
   "source": [
    "Now, let's have a look at the content of these files, and when this is done, we can run it, like so:"
   ]
  },
  {
   "cell_type": "code",
   "execution_count": 28,
   "id": "80ac6f31-2713-42ee-8929-5525347b2a4b",
   "metadata": {},
   "outputs": [],
   "source": [
    "from premise import *\n",
    "from datapackage import Package\n",
    "import bw2data as bw\n",
    "import bw2io"
   ]
  },
  {
   "cell_type": "code",
   "execution_count": 2,
   "id": "8a26c7f1-3af3-4c26-bb86-01f315e946b8",
   "metadata": {},
   "outputs": [],
   "source": [
    "#if \"premise_ei391_recharge\" in bw.projects:\n",
    "#    bw.projects.delete_project(\"premise_ei391_recharge\")\n",
    "#    print(\"Deleted project\")"
   ]
  },
  {
   "cell_type": "code",
   "execution_count": 11,
   "id": "3b3c071a-5b00-4461-83ee-6548211256ae",
   "metadata": {},
   "outputs": [
    {
     "name": "stdout",
     "output_type": "stream",
     "text": [
      "Restoring project backup archive - this could take a few minutes...\n"
     ]
    },
    {
     "data": {
      "text/plain": [
       "'premise_ei391_recharge_new'"
      ]
     },
     "execution_count": 11,
     "metadata": {},
     "output_type": "execute_result"
    }
   ],
   "source": [
    "#bw2io.restore_project_directory(\"/srv/data/ecoinvent-3.9.1-cutoff.tar.gz\", project_name=\"premise_ei391_recharge_new\")"
   ]
  },
  {
   "cell_type": "code",
   "execution_count": 29,
   "id": "68f5574a-4334-4d99-b18e-076ae3b4de79",
   "metadata": {},
   "outputs": [],
   "source": [
    "bw.projects.set_current(\"premise_ei391_recharge_new\")"
   ]
  },
  {
   "cell_type": "code",
   "execution_count": 30,
   "id": "f7435597-b748-410c-a786-1f429feedf27",
   "metadata": {},
   "outputs": [
    {
     "data": {
      "text/plain": [
       "Databases dictionary with 3 object(s):\n",
       "\tSSP2-RCP262040\n",
       "\tbiosphere3\n",
       "\tecoinvent-3.9.1-cutoff"
      ]
     },
     "execution_count": 30,
     "metadata": {},
     "output_type": "execute_result"
    }
   ],
   "source": [
    "bw.databases"
   ]
  },
  {
   "cell_type": "code",
   "execution_count": 4,
   "id": "40d0db3b-59b1-4839-adc5-d4ca13489ebc",
   "metadata": {},
   "outputs": [
    {
     "name": "stdout",
     "output_type": "stream",
     "text": [
      "Name: premise\n",
      "Version: 1.7.9\n",
      "Summary: Coupling IAM output to ecoinvent LCA database ecoinvent for prospective LCA\n",
      "Home-page: https://github.com/polca/premise\n",
      "Author: Romain Sacchi <romain.sacchi@psi.ch>, Alois Dirnaichner <dirnaichner@pik-potsdam.de>, Chris Mutel <chris.mutel@psi.ch>\n",
      "Author-email: \n",
      "License: BSD 3-Clause License\n",
      "        \n",
      "        Copyright (c) 2020, Potsdam Institute for Climate Impact Research, Paul Scherrer Institut\n",
      "        All rights reserved.\n",
      "        \n",
      "        Redistribution and use in source and binary forms, with or without\n",
      "        modification, are permitted provided that the following conditions are met:\n",
      "        \n",
      "        * Redistributions of source code must retain the above copyright notice, this\n",
      "          list of conditions and the following disclaimer.\n",
      "        \n",
      "        * Redistributions in binary form must reproduce the above copyright notice,\n",
      "          this list of conditions and the following disclaimer in the documentation\n",
      "          and/or other materials provided with the distribution.\n",
      "        \n",
      "        * Neither the name of the copyright holder nor the names of its\n",
      "          contributors may be used to endorse or promote products derived from\n",
      "          this software without specific prior written permission.\n",
      "        \n",
      "        THIS SOFTWARE IS PROVIDED BY THE COPYRIGHT HOLDERS AND CONTRIBUTORS \"AS IS\"\n",
      "        AND ANY EXPRESS OR IMPLIED WARRANTIES, INCLUDING, BUT NOT LIMITED TO, THE\n",
      "        IMPLIED WARRANTIES OF MERCHANTABILITY AND FITNESS FOR A PARTICULAR PURPOSE ARE\n",
      "        DISCLAIMED. IN NO EVENT SHALL THE COPYRIGHT HOLDER OR CONTRIBUTORS BE LIABLE\n",
      "        FOR ANY DIRECT, INDIRECT, INCIDENTAL, SPECIAL, EXEMPLARY, OR CONSEQUENTIAL\n",
      "        DAMAGES (INCLUDING, BUT NOT LIMITED TO, PROCUREMENT OF SUBSTITUTE GOODS OR\n",
      "        SERVICES; LOSS OF USE, DATA, OR PROFITS; OR BUSINESS INTERRUPTION) HOWEVER\n",
      "        CAUSED AND ON ANY THEORY OF LIABILITY, WHETHER IN CONTRACT, STRICT LIABILITY,\n",
      "        OR TORT (INCLUDING NEGLIGENCE OR OTHERWISE) ARISING IN ANY WAY OUT OF THE USE\n",
      "        OF THIS SOFTWARE, EVEN IF ADVISED OF THE POSSIBILITY OF SUCH DAMAGE.\n",
      "        \n",
      "Location: /home/jupyter-as23_daniele.costa-284fd/.local/lib/python3.10/site-packages\n",
      "Requires: bottleneck, bw2data, bw2io, constructive-geometries, cryptography, datapackage, numpy, pandas, platformdirs, premise-gwp, prettytable, pyarrow, pycountry, pyYaml, requests, schema, sparse, wurst, xarray\n",
      "Required-by: \n",
      "Note: you may need to restart the kernel to use updated packages.\n"
     ]
    }
   ],
   "source": [
    "pip show premise"
   ]
  },
  {
   "cell_type": "code",
   "execution_count": null,
   "id": "28fcfd97-856c-4207-9685-0938af8826d3",
   "metadata": {},
   "outputs": [],
   "source": []
  },
  {
   "cell_type": "code",
   "execution_count": 4,
   "id": "cb5d1d10-7790-47c7-9e77-5cc9d7a5b1dc",
   "metadata": {},
   "outputs": [
    {
     "ename": "NameError",
     "evalue": "name 'urls' is not defined",
     "output_type": "error",
     "traceback": [
      "\u001b[0;31m---------------------------------------------------------------------------\u001b[0m",
      "\u001b[0;31mNameError\u001b[0m                                 Traceback (most recent call last)",
      "Cell \u001b[0;32mIn[4], line 1\u001b[0m\n\u001b[0;32m----> 1\u001b[0m dp \u001b[38;5;241m=\u001b[39m Package(\u001b[43murls\u001b[49m[\u001b[38;5;241m0\u001b[39m])\n",
      "\u001b[0;31mNameError\u001b[0m: name 'urls' is not defined"
     ]
    }
   ],
   "source": [
    "#dp = Package(urls[0])"
   ]
  },
  {
   "cell_type": "code",
   "execution_count": null,
   "id": "1808fdf5-c881-445b-ac96-11b3527868d7",
   "metadata": {},
   "outputs": [],
   "source": [
    "#from datapackage import exceptions"
   ]
  },
  {
   "cell_type": "code",
   "execution_count": 7,
   "id": "207bf787-7e12-4e6a-aaf5-6af15f30e7db",
   "metadata": {},
   "outputs": [
    {
     "ename": "NameError",
     "evalue": "name 'dp' is not defined",
     "output_type": "error",
     "traceback": [
      "\u001b[0;31m---------------------------------------------------------------------------\u001b[0m",
      "\u001b[0;31mNameError\u001b[0m                                 Traceback (most recent call last)",
      "Cell \u001b[0;32mIn[7], line 1\u001b[0m\n\u001b[0;32m----> 1\u001b[0m \u001b[43mdp\u001b[49m\u001b[38;5;241m.\u001b[39merrors\n",
      "\u001b[0;31mNameError\u001b[0m: name 'dp' is not defined"
     ]
    }
   ],
   "source": [
    "#dp.errors"
   ]
  },
  {
   "cell_type": "code",
   "execution_count": 8,
   "id": "8385f1a0-0f4c-4e71-b24a-52a5fc69b7dd",
   "metadata": {},
   "outputs": [
    {
     "ename": "NameError",
     "evalue": "name 'dp' is not defined",
     "output_type": "error",
     "traceback": [
      "\u001b[0;31m---------------------------------------------------------------------------\u001b[0m",
      "\u001b[0;31mNameError\u001b[0m                                 Traceback (most recent call last)",
      "Cell \u001b[0;32mIn[8], line 1\u001b[0m\n\u001b[0;32m----> 1\u001b[0m \u001b[43mdp\u001b[49m\u001b[38;5;241m.\u001b[39mvalidate()\n",
      "\u001b[0;31mNameError\u001b[0m: name 'dp' is not defined"
     ]
    }
   ],
   "source": [
    "#dp.validate()"
   ]
  },
  {
   "cell_type": "code",
   "execution_count": 31,
   "id": "5424fda3-657a-470e-bc2f-b5237078be7e",
   "metadata": {},
   "outputs": [],
   "source": [
    "urls = [\n",
    "    \"all_included_hotel/datapackage.json\",\n",
    "]"
   ]
  },
  {
   "cell_type": "code",
   "execution_count": 38,
   "id": "943e4ba8-edc7-48ac-8c91-0aeda924b2c2",
   "metadata": {},
   "outputs": [
    {
     "name": "stdout",
     "output_type": "stream",
     "text": [
      "premise v.(1, 7, 9)\n",
      "+------------------------------------------------------------------+\n",
      "| Warning                                                          |\n",
      "+------------------------------------------------------------------+\n",
      "| Because some of the scenarios can yield LCI databases            |\n",
      "| containing net negative emission technologies (NET),             |\n",
      "| it is advised to account for biogenic CO2 flows when calculating |\n",
      "| Global Warming potential indicators.                             |\n",
      "| `premise_gwp` provides characterization factors for such flows.  |\n",
      "| It also provides factors for hydrogen emissions to air.          |\n",
      "|                                                                  |\n",
      "| Within your bw2 project:                                         |\n",
      "| from premise_gwp import add_premise_gwp                          |\n",
      "| add_premise_gwp()                                                |\n",
      "+------------------------------------------------------------------+\n",
      "+--------------------------------+----------------------------------+\n",
      "| Utils functions                | Description                      |\n",
      "+--------------------------------+----------------------------------+\n",
      "| clear_cache()                  | Clears the cache folder. Useful  |\n",
      "|                                | when updating `premise`or        |\n",
      "|                                | encountering issues with         |\n",
      "|                                | inventories.                     |\n",
      "+--------------------------------+----------------------------------+\n",
      "| get_regions_definition(model)  | Retrieves the list of countries  |\n",
      "|                                | for each region of the model.    |\n",
      "+--------------------------------+----------------------------------+\n",
      "| ndb.NewDatabase(...)           | Generates a summary of the most  |\n",
      "| ndb.generate_scenario_report() | important scenarios' variables.  |\n",
      "+--------------------------------+----------------------------------+\n",
      "Keep uncertainty data?\n",
      "NewDatabase(..., keep_uncertainty_data=True)\n",
      "\n",
      "Disable multiprocessing?\n",
      "NewDatabase(..., use_multiprocessing=False)\n",
      "\n",
      "Hide these messages?\n",
      "NewDatabase(..., quiet=True)\n",
      "\n",
      "//////////////////// EXTRACTING SOURCE DATABASE ////////////////////\n",
      "Done!\n",
      "\n",
      "////////////////// IMPORTING DEFAULT INVENTORIES ///////////////////\n",
      "Done!\n",
      "\n",
      "/////////////////////// EXTRACTING IAM DATA ////////////////////////\n",
      "Done!\n"
     ]
    }
   ],
   "source": [
    "scenarios = [\n",
    "    {\"model\": \"image\", \"pathway\":\"SSP2-Base\", \"year\": 2021},\n",
    "    {\"model\": \"image\", \"pathway\":\"SSP2-Base\", \"year\": 2040},\n",
    "    {\"model\": \"image\", \"pathway\":\"SSP2-RCP26\", \"year\": 2021},\n",
    "    {\"model\": \"image\", \"pathway\":\"SSP2-RCP26\", \"year\": 2040},\n",
    "\n",
    "]\n",
    "\n",
    "ndb = NewDatabase(\n",
    "        scenarios = scenarios,        \n",
    "        source_db=\"ecoinvent-3.9.1-cutoff\",\n",
    "        source_version=\"3.9\",\n",
    "        key='tUePmX_S5B8ieZkkM7WUU2CnO8SmShwmAeWK9x2rTFo=',\n",
    "        external_scenarios=[Package(url) for url in urls],\n",
    "#        use_cached_database=False,\n",
    "#        use_cached_inventories=False# \n",
    ")"
   ]
  },
  {
   "cell_type": "code",
   "execution_count": null,
   "id": "8c8c8e3c-30d3-450c-94b6-47f8bae2290b",
   "metadata": {},
   "outputs": [],
   "source": []
  },
  {
   "cell_type": "code",
   "execution_count": 39,
   "id": "5f921d8e-d5c9-4359-97bf-1851d986636e",
   "metadata": {},
   "outputs": [
    {
     "name": "stdout",
     "output_type": "stream",
     "text": [
      "\n",
      "//////////////// IMPORTING USER-DEFINED INVENTORIES ////////////////\n",
      "Extracted 1 worksheets in 0.02 seconds\n",
      "The following datasets to import already exist in the source database. They will not be imported\n",
      "+-------------------+-------------------+----------+--------------------+\n",
      "|        Name       | Reference product | Location |        File        |\n",
      "+-------------------+-------------------+----------+--------------------+\n",
      "| battery separator | battery separator |   GLO    | lci_batteries.xlsx |\n",
      "+-------------------+-------------------+----------+--------------------+\n",
      "Create custom markets.\n",
      "\n",
      "//////////////// IMPORTING USER-DEFINED INVENTORIES ////////////////\n",
      "Extracted 1 worksheets in 0.01 seconds\n",
      "The following datasets to import already exist in the source database. They will not be imported\n",
      "+-------------------+-------------------+----------+--------------------+\n",
      "|        Name       | Reference product | Location |        File        |\n",
      "+-------------------+-------------------+----------+--------------------+\n",
      "| battery separator | battery separator |   GLO    | lci_batteries.xlsx |\n",
      "+-------------------+-------------------+----------+--------------------+\n",
      "Create custom markets.\n",
      "\n",
      "//////////////// IMPORTING USER-DEFINED INVENTORIES ////////////////\n",
      "Extracted 1 worksheets in 0.01 seconds\n",
      "The following datasets to import already exist in the source database. They will not be imported\n",
      "+-------------------+-------------------+----------+--------------------+\n",
      "|        Name       | Reference product | Location |        File        |\n",
      "+-------------------+-------------------+----------+--------------------+\n",
      "| battery separator | battery separator |   GLO    | lci_batteries.xlsx |\n",
      "+-------------------+-------------------+----------+--------------------+\n",
      "Create custom markets.\n",
      "\n",
      "//////////////// IMPORTING USER-DEFINED INVENTORIES ////////////////\n",
      "Extracted 1 worksheets in 0.01 seconds\n",
      "The following datasets to import already exist in the source database. They will not be imported\n",
      "+-------------------+-------------------+----------+--------------------+\n",
      "|        Name       | Reference product | Location |        File        |\n",
      "+-------------------+-------------------+----------+--------------------+\n",
      "| battery separator | battery separator |   GLO    | lci_batteries.xlsx |\n",
      "+-------------------+-------------------+----------+--------------------+\n",
      "Create custom markets.\n",
      "Log file of exchanges saved under /home/jupyter-as23_daniele.costa-284fd/.local/lib/python3.10/site-packages/premise/data/logs.\n",
      "Done!\n",
      "\n"
     ]
    }
   ],
   "source": [
    "ndb.update_external_scenario()"
   ]
  },
  {
   "cell_type": "code",
   "execution_count": null,
   "id": "14419b68-9a98-47f9-a27c-f02cd6e0bf3f",
   "metadata": {},
   "outputs": [],
   "source": []
  },
  {
   "cell_type": "code",
   "execution_count": null,
   "id": "82b6a827-c17a-4935-9445-b9cf2d0f709a",
   "metadata": {},
   "outputs": [],
   "source": []
  },
  {
   "cell_type": "markdown",
   "id": "9d9ecfb6-8f01-4463-b78f-cda299eb546a",
   "metadata": {},
   "source": [
    "scenarios = [\n",
    "    {\"model\": \"image\", \"pathway\":\"SSP2-Base\", \"year\": 2021},\n",
    "    {\"model\": \"image\", \"pathway\":\"SSP2-Base\", \"year\": 2022},\n",
    "    {\"model\": \"image\", \"pathway\":\"SSP2-Base\", \"year\": 2023},\n",
    "    {\"model\": \"image\", \"pathway\":\"SSP2-Base\", \"year\": 2024},\n",
    "    {\"model\": \"image\", \"pathway\":\"SSP2-Base\", \"year\": 2025},\n",
    "    {\"model\": \"image\", \"pathway\":\"SSP2-Base\", \"year\": 2026},\n",
    "    {\"model\": \"image\", \"pathway\":\"SSP2-Base\", \"year\": 2027},\n",
    "    {\"model\": \"image\", \"pathway\":\"SSP2-Base\", \"year\": 2028},\n",
    "    {\"model\": \"image\", \"pathway\":\"SSP2-Base\", \"year\": 2029},\n",
    "    {\"model\": \"image\", \"pathway\":\"SSP2-Base\", \"year\": 2030},\n",
    "    {\"model\": \"image\", \"pathway\":\"SSP2-Base\", \"year\": 2031},\n",
    "    {\"model\": \"image\", \"pathway\":\"SSP2-Base\", \"year\": 2032},\n",
    "    {\"model\": \"image\", \"pathway\":\"SSP2-Base\", \"year\": 2033},\n",
    "    {\"model\": \"image\", \"pathway\":\"SSP2-Base\", \"year\": 2034},\n",
    "    {\"model\": \"image\", \"pathway\":\"SSP2-Base\", \"year\": 2035},\n",
    "    {\"model\": \"image\", \"pathway\":\"SSP2-Base\", \"year\": 2036},\n",
    "    {\"model\": \"image\", \"pathway\":\"SSP2-Base\", \"year\": 2037},\n",
    "    {\"model\": \"image\", \"pathway\":\"SSP2-Base\", \"year\": 2038},\n",
    "    {\"model\": \"image\", \"pathway\":\"SSP2-Base\", \"year\": 2039},\n",
    "    {\"model\": \"image\", \"pathway\":\"SSP2-Base\", \"year\": 2040},\n",
    "    {\"model\": \"image\", \"pathway\":\"SSP2-RCP26\", \"year\": 2021},\n",
    "    {\"model\": \"image\", \"pathway\":\"SSP2-RCP26\", \"year\": 2022},\n",
    "    {\"model\": \"image\", \"pathway\":\"SSP2-RCP26\", \"year\": 2023},\n",
    "    {\"model\": \"image\", \"pathway\":\"SSP2-RCP26\", \"year\": 2024},\n",
    "    {\"model\": \"image\", \"pathway\":\"SSP2-RCP26\", \"year\": 2025},\n",
    "    {\"model\": \"image\", \"pathway\":\"SSP2-RCP26\", \"year\": 2026},\n",
    "    {\"model\": \"image\", \"pathway\":\"SSP2-RCP26\", \"year\": 2027},\n",
    "    {\"model\": \"image\", \"pathway\":\"SSP2-RCP26\", \"year\": 2028},\n",
    "    {\"model\": \"image\", \"pathway\":\"SSP2-RCP26\", \"year\": 2029},\n",
    "    {\"model\": \"image\", \"pathway\":\"SSP2-RCP26\", \"year\": 2030},\n",
    "    {\"model\": \"image\", \"pathway\":\"SSP2-RCP26\", \"year\": 2031},\n",
    "    {\"model\": \"image\", \"pathway\":\"SSP2-RCP26\", \"year\": 2032},\n",
    "    {\"model\": \"image\", \"pathway\":\"SSP2-RCP26\", \"year\": 2033},\n",
    "    {\"model\": \"image\", \"pathway\":\"SSP2-RCP26\", \"year\": 2034},\n",
    "    {\"model\": \"image\", \"pathway\":\"SSP2-RCP26\", \"year\": 2035},\n",
    "    {\"model\": \"image\", \"pathway\":\"SSP2-RCP26\", \"year\": 2036},\n",
    "    {\"model\": \"image\", \"pathway\":\"SSP2-RCP26\", \"year\": 2037},\n",
    "    {\"model\": \"image\", \"pathway\":\"SSP2-RCP26\", \"year\": 2038},\n",
    "    {\"model\": \"image\", \"pathway\":\"SSP2-RCP26\", \"year\": 2039},\n",
    "    {\"model\": \"image\", \"pathway\":\"SSP2-RCP26\", \"year\": 2040},\n",
    "]\n",
    "\n",
    "ndb = NewDatabase(\n",
    "        scenarios = scenarios,        \n",
    "        source_db=\"ecoinvent-3.9.1-cutoff\",\n",
    "        source_version=\"3.9\",\n",
    "        key='tUePmX_S5B8ieZkkM7WUU2CnO8SmShwmAeWK9x2rTFo=',\n",
    "        external_scenarios=[Package(url) for url in urls],\n",
    "        use_cached_database=False,\n",
    "        use_cached_inventories=False# \n",
    ")"
   ]
  },
  {
   "cell_type": "markdown",
   "id": "86f1dad2-2f1c-4f85-8ac7-1c99dd817c58",
   "metadata": {},
   "source": [
    "ndb.update_external_scenario()"
   ]
  },
  {
   "cell_type": "code",
   "execution_count": null,
   "id": "59ce3dbf-a0eb-47db-aced-726d979f2f27",
   "metadata": {},
   "outputs": [],
   "source": []
  },
  {
   "cell_type": "code",
   "execution_count": null,
   "id": "d1dabcf7-5072-4fd8-9f0a-00e4466d6bc1",
   "metadata": {},
   "outputs": [],
   "source": []
  },
  {
   "cell_type": "code",
   "execution_count": 34,
   "id": "4759fbf9-848e-4bcf-8eae-b2e771e27a79",
   "metadata": {},
   "outputs": [
    {
     "name": "stdout",
     "output_type": "stream",
     "text": [
      "Write new database(s) to Brightway2.\n",
      "Database SSP2-RCP262040 already exists: it will be overwritten.\n",
      "Vacuuming database \n",
      "Warning: No valid output stream.\n",
      "Title: Writing activities to SQLite3 database:\n",
      "  Started: 10/12/2023 14:54:52\n",
      "  Finished: 10/12/2023 14:55:16\n",
      "  Total time elapsed: 00:00:24\n",
      "  CPU %: 94.90\n",
      "  Memory %: 5.53\n",
      "Created database: SSP2-RCP262040\n",
      "Generate scenario report.\n",
      "Report saved under /home/jupyter-as23_daniele.costa-284fd/recharge.git/export/scenario_report.\n",
      "Generate change report.\n",
      "Report saved under /home/jupyter-as23_daniele.costa-284fd/recharge.git.\n"
     ]
    }
   ],
   "source": [
    "ndb.write_db_to_brightway([\"SSP2-RCP262040\"])"
   ]
  },
  {
   "cell_type": "code",
   "execution_count": 35,
   "id": "b65bc1a5-0ede-4b92-9d97-587bbe3542af",
   "metadata": {},
   "outputs": [],
   "source": [
    "battery_market = [\n",
    "    act for db in [\n",
    "        \"SSP2-RCP262040\", \n",
    "    ] for act in bw2data.Database(db) if \"market for battery cell production\" in act[\"name\"]\n",
    "    and act[\"unit\"] == \"kilogram\" \n",
    "    \n",
    "]\n",
    "\n",
    "lfp_product = [\n",
    "    act for db in [\n",
    "        \"SSP2-RCP262040\", \n",
    "    ] for act in bw2data.Database(db) if \"battery cell production\" in act[\"name\"]\n",
    "    and act[\"unit\"] == \"kilogram\" \n",
    "    \n",
    "]\n"
   ]
  },
  {
   "cell_type": "code",
   "execution_count": 22,
   "id": "fde7f3f0-d402-44a1-a4e8-93ad2aa1b71c",
   "metadata": {},
   "outputs": [
    {
     "name": "stdout",
     "output_type": "stream",
     "text": [
      "['market for battery cell production' (kilogram, GLO, None)]\n",
      "KeysView('market for battery cell production' (kilogram, GLO, None))\n"
     ]
    }
   ],
   "source": [
    "print(battery_market)\n",
    "print(battery_market[0].keys())"
   ]
  },
  {
   "cell_type": "code",
   "execution_count": 24,
   "id": "2bc67023-b3ad-4ce0-8e6d-95a212e9d1a3",
   "metadata": {},
   "outputs": [
    {
     "data": {
      "text/plain": [
       "[('name', 'market for battery cell production'),\n",
       " ('reference product', 'battery cell types'),\n",
       " ('unit', 'kilogram'),\n",
       " ('location', 'GLO'),\n",
       " ('database', 'SSP2-RCP262040'),\n",
       " ('code', 'af96ca888ad0482489d3468c6491921d')]"
      ]
     },
     "execution_count": 24,
     "metadata": {},
     "output_type": "execute_result"
    }
   ],
   "source": [
    "list(battery_market[0].items())"
   ]
  },
  {
   "cell_type": "code",
   "execution_count": 36,
   "id": "5739be29-b5cf-4772-9b32-93ea8e449b1c",
   "metadata": {},
   "outputs": [
    {
     "data": {
      "text/plain": [
       "[('classifications',\n",
       "  [('ISIC rev.4 ecoinvent', '2720:Manufacture of batteries and accumulators'),\n",
       "   ('CPC', '46410: Primary cells and primary batteries')]),\n",
       " ('comment',\n",
       "  'This dataset represents the production of 1 kg of Li-ion battery cell with nickel-manganese-cobalt 811 (NMC811) cathode and silicon coated graphite based anode. The specific energy capacity of a cell is 0.209 kWh/kg cell, calculated based on the information reported in Dai et al. (2017, 2018, 2019). The inventory is modelled according to the publication of Dai et al. (2017) and expert judgement. Infrastructure is included as well. \\nReference: \\nDai, Q., Dunn, J., Kelly, J. C., & Elgowainy, A. Update of Life Cycle Analysis of Lithium-Ion Batteries in the GREET Model. 2017. Argonne National Laboratory.\\nDai, Q., Kelly, J., Dunn, J., & Benavides, P. (2018). Update of bill-of-materials and cathode materials production for lithium-ion batteries in the GREET model. Energy Systems Division, Argonne National Laboratory (ANL), IL, US.\\nDai, Q., Kelly, J. C., Gaines, L., & Wang, M. (2019). Life cycle analysis of lithium-ion batteries for automotive applications. Batteries, 5(2), 48.\\nGeography:  This dataset covers the geography China, which is the leader country of Li-ion battery cell  production. Data have been partly collected form a Chinese company.\\nTechnology:  This dataset includes a method of producing Li-ion cell. Lithium ions move from the cathode (NMC811) into the electrolyte through the micropores of the separator into the silicon coated graphite anode during the charging phase. During the discharge of the battery, the Li+-ions move back into the cathode. \\nTime period:  The time period is from 2017 (year of the collection of data) and 2020 (year of the dataset)'),\n",
       " ('location', 'CN'),\n",
       " ('database', 'SSP2-RCP262040'),\n",
       " ('code', '56dc1c92dfa6f86b862bc0ac30b4c0d3'),\n",
       " ('name', 'battery cell production, Li-ion, NMC811'),\n",
       " ('reference product', 'battery cell, Li-ion, NMC811'),\n",
       " ('unit', 'kilogram'),\n",
       " ('regions', ['GLO']),\n",
       " ('technosphere filters',\n",
       "  {'Efficiency|Electricity|NMC811andNMC900': [['electricity, medium voltage'],\n",
       "    {'GLO': 1.549602593}],\n",
       "   'Efficiency|Heat|NMC811andNMC900': [['market for heat'],\n",
       "    {'GLO': 1.619368072}]}),\n",
       " ('production volume variable', 'Share|NMC811andNMC900')]"
      ]
     },
     "execution_count": 36,
     "metadata": {},
     "output_type": "execute_result"
    }
   ],
   "source": [
    "list(lfp_product[0].items())"
   ]
  },
  {
   "cell_type": "code",
   "execution_count": 37,
   "id": "648fa1c7-b400-497f-ad38-239f6f57b6ab",
   "metadata": {},
   "outputs": [
    {
     "data": {
      "text/plain": [
       "[Exchange: 1.0 kilogram 'battery cell production, Li-ion, NMC811' (kilogram, CN, None) to 'battery cell production, Li-ion, NMC811' (kilogram, CN, None)>,\n",
       " Exchange: 0.0284 kilogram 'market for aluminium collector foil, for Li-ion battery' (kilogram, GLO, None) to 'battery cell production, Li-ion, NMC811' (kilogram, CN, None)>,\n",
       " Exchange: 0.0284 kilogram 'market for aluminium, wrought alloy' (kilogram, GLO, None) to 'battery cell production, Li-ion, NMC811' (kilogram, CN, None)>,\n",
       " Exchange: 0.2181 kilogram 'market for anode, silicon coated graphite, for Li-ion battery' (kilogram, CN, None) to 'battery cell production, Li-ion, NMC811' (kilogram, CN, None)>,\n",
       " Exchange: 0.0182 kilogram 'market for battery separator' (kilogram, GLO, None) to 'battery cell production, Li-ion, NMC811' (kilogram, CN, None)>,\n",
       " Exchange: 0.3773 kilogram 'market for cathode, NMC811, for Li-ion battery' (kilogram, CN, None) to 'battery cell production, Li-ion, NMC811' (kilogram, CN, None)>,\n",
       " Exchange: 4e-10 unit 'market for chemical factory, organics' (unit, GLO, None) to 'battery cell production, Li-ion, NMC811' (kilogram, CN, None)>,\n",
       " Exchange: 0.1243 kilogram 'market for copper collector foil, for Li-ion battery' (kilogram, GLO, None) to 'battery cell production, Li-ion, NMC811' (kilogram, CN, None)>,\n",
       " Exchange: 0.033 kilogram 'market for copper, anode' (kilogram, GLO, None) to 'battery cell production, Li-ion, NMC811' (kilogram, CN, None)>,\n",
       " Exchange: 0.814144223621598 kilowatt hour 'market group for electricity, medium voltage' (kilowatt hour, CN, None) to 'battery cell production, Li-ion, NMC811' (kilogram, CN, None)>,\n",
       " Exchange: 0.1683 kilogram 'market for electrolyte, for Li-ion battery' (kilogram, GLO, None) to 'battery cell production, Li-ion, NMC811' (kilogram, CN, None)>,\n",
       " Exchange: 0.004 kilogram 'market for extrusion, plastic film' (kilogram, GLO, None) to 'battery cell production, Li-ion, NMC811' (kilogram, CN, None)>,\n",
       " Exchange: 0.0028 kilogram 'market for polyethylene terephthalate, granulate, amorphous' (kilogram, GLO, None) to 'battery cell production, Li-ion, NMC811' (kilogram, CN, None)>,\n",
       " Exchange: 0.0012 kilogram 'market for polypropylene, granulate' (kilogram, GLO, None) to 'battery cell production, Li-ion, NMC811' (kilogram, CN, None)>,\n",
       " Exchange: 0.0284 kilogram 'market for sheet rolling, aluminium' (kilogram, GLO, None) to 'battery cell production, Li-ion, NMC811' (kilogram, CN, None)>,\n",
       " Exchange: 0.033 kilogram 'market for sheet rolling, copper' (kilogram, GLO, None) to 'battery cell production, Li-ion, NMC811' (kilogram, CN, None)>,\n",
       " Exchange: 8.207522569952213 megajoule 'market for heat' (megajoule, GLO, None) to 'battery cell production, Li-ion, NMC811' (kilogram, CN, None)>]"
      ]
     },
     "execution_count": 37,
     "metadata": {},
     "output_type": "execute_result"
    }
   ],
   "source": [
    "list(lfp_product[0].exchanges())"
   ]
  },
  {
   "cell_type": "code",
   "execution_count": 39,
   "id": "64be3f0f-8c82-42fc-8608-8b512de3492f",
   "metadata": {},
   "outputs": [
    {
     "data": {
      "text/plain": [
       "[Exchange: 1.0 kilogram 'market for battery cell production' (kilogram, GLO, None) to 'market for battery cell production' (kilogram, GLO, None)>,\n",
       " Exchange: 0.01 kilogram 'battery cell production, Li-ion, NCA' (kilogram, RoW, None) to 'market for battery cell production' (kilogram, GLO, None)>,\n",
       " Exchange: 0.02 kilogram 'battery cell production, NMC-622' (kilogram, GLO, None) to 'market for battery cell production' (kilogram, GLO, None)>,\n",
       " Exchange: 0.3 kilogram 'battery cell production, Li-ion, NMC811' (kilogram, RoW, None) to 'market for battery cell production' (kilogram, GLO, None)>,\n",
       " Exchange: 0.28 kilogram 'battery cell production, Li-ion, LFP' (kilogram, RoW, None) to 'market for battery cell production' (kilogram, GLO, None)>,\n",
       " Exchange: 0.39 kilogram 'battery cell production, PLIB' (kilogram, GLO, None) to 'market for battery cell production' (kilogram, GLO, None)>]"
      ]
     },
     "execution_count": 39,
     "metadata": {},
     "output_type": "execute_result"
    }
   ],
   "source": [
    "list(battery_market[3].exchanges())"
   ]
  },
  {
   "cell_type": "code",
   "execution_count": 19,
   "id": "9e717f6f-3637-4119-8460-cf8f19d88b3d",
   "metadata": {},
   "outputs": [],
   "source": [
    "import wurst\n",
    "import bw2io, bw2data"
   ]
  },
  {
   "cell_type": "code",
   "execution_count": 40,
   "id": "2be499f5-48e5-4435-90e9-7000e66d2648",
   "metadata": {},
   "outputs": [
    {
     "name": "stdout",
     "output_type": "stream",
     "text": [
      "Building superstructure database...\n",
      "Dropped 0 duplicate(s).\n",
      "Scenario difference file exported to /home/jupyter-as23_daniele.costa-284fd/recharge.git/export/scenario diff files!\n",
      "Warning: No valid output stream.\n",
      "Title: Writing activities to SQLite3 database:\n",
      "  Started: 10/12/2023 15:34:05\n",
      "  Finished: 10/12/2023 15:34:33\n",
      "  Total time elapsed: 00:00:27\n",
      "  CPU %: 95.40\n",
      "  Memory %: 5.54\n",
      "Created database: superstructure_2020_2040\n",
      "Generate scenario report.\n",
      "Report saved under /home/jupyter-as23_daniele.costa-284fd/recharge.git/export/scenario_report.\n",
      "Generate change report.\n",
      "Report saved under /home/jupyter-as23_daniele.costa-284fd/recharge.git.\n"
     ]
    }
   ],
   "source": [
    "ndb.write_superstructure_db_to_brightway(\"superstructure_2020_2040\")"
   ]
  },
  {
   "cell_type": "code",
   "execution_count": 66,
   "id": "fc720923-22a3-46d9-8d80-37fe9df29e98",
   "metadata": {},
   "outputs": [
    {
     "data": {
      "text/plain": [
       "(0, 8, 10)"
      ]
     },
     "execution_count": 66,
     "metadata": {},
     "output_type": "execute_result"
    }
   ],
   "source": [
    "bw2io.__version__"
   ]
  },
  {
   "cell_type": "code",
   "execution_count": 41,
   "id": "80bafc36-a415-40fb-b9a2-d8ffbb4b1d09",
   "metadata": {},
   "outputs": [
    {
     "name": "stdout",
     "output_type": "stream",
     "text": [
      "Creating project backup archive - this could take a few minutes...\n"
     ]
    },
    {
     "data": {
      "text/plain": [
       "'premise_ei391_recharge_new'"
      ]
     },
     "execution_count": 41,
     "metadata": {},
     "output_type": "execute_result"
    }
   ],
   "source": [
    "bw2io.backup_project_directory(\"premise_ei391_recharge_new\")"
   ]
  },
  {
   "cell_type": "code",
   "execution_count": null,
   "id": "636c266f-8a9d-466d-a1d8-901842dc30ac",
   "metadata": {},
   "outputs": [],
   "source": []
  }
 ],
 "metadata": {
  "kernelspec": {
   "display_name": "Python [conda env:premise]",
   "language": "python",
   "name": "conda-env-premise-py"
  },
  "language_info": {
   "codemirror_mode": {
    "name": "ipython",
    "version": 3
   },
   "file_extension": ".py",
   "mimetype": "text/x-python",
   "name": "python",
   "nbconvert_exporter": "python",
   "pygments_lexer": "ipython3",
   "version": "3.10.13"
  }
 },
 "nbformat": 4,
 "nbformat_minor": 5
}
